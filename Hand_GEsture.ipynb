{
 "cells": [
  {
   "cell_type": "markdown",
   "metadata": {},
   "source": [
    "Importing the Data from the Kaggle"
   ]
  },
  {
   "cell_type": "code",
   "execution_count": 16,
   "metadata": {},
   "outputs": [],
   "source": [
    "from mpl_toolkits.mplot3d import Axes3D\n",
    "from sklearn.preprocessing import StandardScaler\n",
    "import matplotlib.pyplot as plt # plotting\n",
    "import numpy as np # linear algebra\n",
    "import os # accessing directory structure\n",
    "import pandas as pd # data processing, CSV file I/O (e.g. pd.read_csv)\n",
    "import requests\n",
    "import cv2"
   ]
  },
  {
   "cell_type": "code",
   "execution_count": 24,
   "metadata": {},
   "outputs": [
    {
     "name": "stdout",
     "output_type": "stream",
     "text": [
      "0\n"
     ]
    }
   ],
   "source": [
    "# We need to get all the paths for the images to later load them\n",
    "imagepaths = []\n",
    "\n",
    "# Go through all the files and subdirectories inside a folder and save path to images inside list\n",
    "for root, dirs, files in os.walk(\".\", topdown=False): \n",
    "  for name in files:\n",
    "    path = os.path.join(root, name)\n",
    "    if path.endswith(\"png\"): # We want only the images\n",
    "      imagepaths.append(path)\n",
    "\n",
    "print(len(imagepaths)) # If > 0, then a PNG image was loaded"
   ]
  },
  {
   "cell_type": "code",
   "execution_count": 27,
   "metadata": {},
   "outputs": [],
   "source": [
    "def Create_Directory_DataFrame():\n",
    "    df =pd.DataFrame(columns=['Class','Location'])\n",
    "    basedir = '/kaggle/input/leapgestrecog'\n",
    "    for folder in os.listdir(basedir):\n",
    "        for Class in os.listdir(basedir+folder+'/'):\n",
    "            for location in os.listdir(basedir+folder+'/'+Class+'/'):\n",
    "                df = df.append({'Class':Class,'Location':basedir+folder+'/'+Class+'/'+location},ignore_index=True)\n",
    "    df = df.sample(frac = 1) \n",
    "    return df"
   ]
  },
  {
   "cell_type": "code",
   "execution_count": 28,
   "metadata": {},
   "outputs": [
    {
     "ename": "FileNotFoundError",
     "evalue": "[WinError 3] The system cannot find the path specified: '/kaggle/input/leapgestrecog'",
     "output_type": "error",
     "traceback": [
      "\u001b[1;31m---------------------------------------------------------------------------\u001b[0m",
      "\u001b[1;31mFileNotFoundError\u001b[0m                         Traceback (most recent call last)",
      "\u001b[1;32mc:\\Users\\MEHUL KINI\\OneDrive\\Desktop\\Hand_Gesture_Recog\\Hand_Gesture_Recog\\Hand_GEsture.ipynb Cell 5\u001b[0m line \u001b[0;36m1\n\u001b[1;32m----> <a href='vscode-notebook-cell:/c%3A/Users/MEHUL%20KINI/OneDrive/Desktop/Hand_Gesture_Recog/Hand_Gesture_Recog/Hand_GEsture.ipynb#X12sZmlsZQ%3D%3D?line=0'>1</a>\u001b[0m df \u001b[39m=\u001b[39m Create_Directory_DataFrame()\n\u001b[0;32m      <a href='vscode-notebook-cell:/c%3A/Users/MEHUL%20KINI/OneDrive/Desktop/Hand_Gesture_Recog/Hand_Gesture_Recog/Hand_GEsture.ipynb#X12sZmlsZQ%3D%3D?line=1'>2</a>\u001b[0m \u001b[39mprint\u001b[39m(df\u001b[39m.\u001b[39mshape)\n\u001b[0;32m      <a href='vscode-notebook-cell:/c%3A/Users/MEHUL%20KINI/OneDrive/Desktop/Hand_Gesture_Recog/Hand_Gesture_Recog/Hand_GEsture.ipynb#X12sZmlsZQ%3D%3D?line=2'>3</a>\u001b[0m df\u001b[39m.\u001b[39mhead()\n",
      "\u001b[1;32mc:\\Users\\MEHUL KINI\\OneDrive\\Desktop\\Hand_Gesture_Recog\\Hand_Gesture_Recog\\Hand_GEsture.ipynb Cell 5\u001b[0m line \u001b[0;36m4\n\u001b[0;32m      <a href='vscode-notebook-cell:/c%3A/Users/MEHUL%20KINI/OneDrive/Desktop/Hand_Gesture_Recog/Hand_Gesture_Recog/Hand_GEsture.ipynb#X12sZmlsZQ%3D%3D?line=1'>2</a>\u001b[0m df \u001b[39m=\u001b[39mpd\u001b[39m.\u001b[39mDataFrame(columns\u001b[39m=\u001b[39m[\u001b[39m'\u001b[39m\u001b[39mClass\u001b[39m\u001b[39m'\u001b[39m,\u001b[39m'\u001b[39m\u001b[39mLocation\u001b[39m\u001b[39m'\u001b[39m])\n\u001b[0;32m      <a href='vscode-notebook-cell:/c%3A/Users/MEHUL%20KINI/OneDrive/Desktop/Hand_Gesture_Recog/Hand_Gesture_Recog/Hand_GEsture.ipynb#X12sZmlsZQ%3D%3D?line=2'>3</a>\u001b[0m basedir \u001b[39m=\u001b[39m \u001b[39m'\u001b[39m\u001b[39m/kaggle/input/leapgestrecog\u001b[39m\u001b[39m'\u001b[39m\n\u001b[1;32m----> <a href='vscode-notebook-cell:/c%3A/Users/MEHUL%20KINI/OneDrive/Desktop/Hand_Gesture_Recog/Hand_Gesture_Recog/Hand_GEsture.ipynb#X12sZmlsZQ%3D%3D?line=3'>4</a>\u001b[0m \u001b[39mfor\u001b[39;00m folder \u001b[39min\u001b[39;00m os\u001b[39m.\u001b[39;49mlistdir(basedir):\n\u001b[0;32m      <a href='vscode-notebook-cell:/c%3A/Users/MEHUL%20KINI/OneDrive/Desktop/Hand_Gesture_Recog/Hand_Gesture_Recog/Hand_GEsture.ipynb#X12sZmlsZQ%3D%3D?line=4'>5</a>\u001b[0m     \u001b[39mfor\u001b[39;00m Class \u001b[39min\u001b[39;00m os\u001b[39m.\u001b[39mlistdir(basedir\u001b[39m+\u001b[39mfolder\u001b[39m+\u001b[39m\u001b[39m'\u001b[39m\u001b[39m/\u001b[39m\u001b[39m'\u001b[39m):\n\u001b[0;32m      <a href='vscode-notebook-cell:/c%3A/Users/MEHUL%20KINI/OneDrive/Desktop/Hand_Gesture_Recog/Hand_Gesture_Recog/Hand_GEsture.ipynb#X12sZmlsZQ%3D%3D?line=5'>6</a>\u001b[0m         \u001b[39mfor\u001b[39;00m location \u001b[39min\u001b[39;00m os\u001b[39m.\u001b[39mlistdir(basedir\u001b[39m+\u001b[39mfolder\u001b[39m+\u001b[39m\u001b[39m'\u001b[39m\u001b[39m/\u001b[39m\u001b[39m'\u001b[39m\u001b[39m+\u001b[39mClass\u001b[39m+\u001b[39m\u001b[39m'\u001b[39m\u001b[39m/\u001b[39m\u001b[39m'\u001b[39m):\n",
      "\u001b[1;31mFileNotFoundError\u001b[0m: [WinError 3] The system cannot find the path specified: '/kaggle/input/leapgestrecog'"
     ]
    }
   ],
   "source": [
    "df = Create_Directory_DataFrame()\n",
    "print(df.shape)\n",
    "df.head()"
   ]
  },
  {
   "cell_type": "code",
   "execution_count": 29,
   "metadata": {},
   "outputs": [
    {
     "ename": "SyntaxError",
     "evalue": "(unicode error) 'unicodeescape' codec can't decode bytes in position 2-3: truncated \\UXXXXXXXX escape (954351872.py, line 5)",
     "output_type": "error",
     "traceback": [
      "\u001b[1;36m  Cell \u001b[1;32mIn[29], line 5\u001b[1;36m\u001b[0m\n\u001b[1;33m    dataset_dir = \"C:\\Users\\MEHUL KINI\\OneDrive\\Desktop\\Hand_Gesture_Recog\\HandGesture Data\"\u001b[0m\n\u001b[1;37m                                                                                            ^\u001b[0m\n\u001b[1;31mSyntaxError\u001b[0m\u001b[1;31m:\u001b[0m (unicode error) 'unicodeescape' codec can't decode bytes in position 2-3: truncated \\UXXXXXXXX escape\n"
     ]
    }
   ],
   "source": [
    "import PIL\n",
    "import os\n",
    "\n",
    "# Path to the Kaggle dataset directory\n",
    "dataset_dir = \"C:\\Users\\MEHUL KINI\\OneDrive\\Desktop\\Hand_Gesture_Recog\\HandGesture Data\"\n",
    "\n",
    "# Load all images from the dataset directory\n",
    "images = []\n",
    "for filename in os.listdir(dataset_dir):\n",
    "    image = PIL.Image.open(os.path.join(dataset_dir, filename))\n",
    "    images.append(image)\n"
   ]
  }
 ],
 "metadata": {
  "kernelspec": {
   "display_name": "Python 3",
   "language": "python",
   "name": "python3"
  },
  "language_info": {
   "codemirror_mode": {
    "name": "ipython",
    "version": 3
   },
   "file_extension": ".py",
   "mimetype": "text/x-python",
   "name": "python",
   "nbconvert_exporter": "python",
   "pygments_lexer": "ipython3",
   "version": "3.11.6"
  }
 },
 "nbformat": 4,
 "nbformat_minor": 2
}
